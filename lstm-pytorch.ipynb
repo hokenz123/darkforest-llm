{
 "cells": [
  {
   "cell_type": "code",
   "execution_count": 2,
   "metadata": {},
   "outputs": [],
   "source": [
    "import torch\n",
    "from torch import nn, tensor, randn\n",
    "import pandas\n",
    "# import nltk # See https://www.nltk.org/data.html\n",
    "from nltk import tokenize"
   ]
  },
  {
   "cell_type": "code",
   "execution_count": null,
   "metadata": {},
   "outputs": [],
   "source": [
    "# Translate data from original CSV file into strings\n",
    "\n",
    "data = pandas.read_csv(\"data/glados-portal2.original.csv\", sep=\"|\", index_col=0)[\"d1\"]\n",
    "file = open(\"data/glados-portal2.csv\", \"w\")\n",
    "for string in data:\n",
    "    file.write(string + \"\\n\")"
   ]
  },
  {
   "cell_type": "code",
   "execution_count": 3,
   "metadata": {},
   "outputs": [],
   "source": [
    "char_tokenize = lambda text: nltk.tokenize.simple.CharTokenizer().tokenize(text)\n",
    "word_tokenize = lambda text: [t.lower() for t in tokenize.WordPunctTokenizer().tokenize(text)]\n",
    "\n",
    "# T (Time) -- размер контекстного окна\n",
    "get_x = lambda data, T, pos: data[pos : pos + T]\n",
    "get_y = lambda data, T, pos: data[pos + 1 : pos + T + 1]\n",
    "# get_x_y = lambda data, T, pos: data[pos : pos + T], data[pos + 1 : pos + T + 1]\n",
    "\n",
    "# B -- batch size\n",
    "def get_batch(data, B, T):\n",
    "    positions = torch.randint(len(data) - T, (B,))\n",
    "    batch_x = torch.stack([get_x(data, T, pos) for pos in positions])\n",
    "    batch_y = torch.stack([get_y(data, T, pos) for pos in positions])"
   ]
  },
  {
   "cell_type": "code",
   "execution_count": 58,
   "metadata": {},
   "outputs": [
    {
     "ename": "AttributeError",
     "evalue": "module 'torch.nn' has no attribute 'Model'",
     "output_type": "error",
     "traceback": [
      "\u001b[31m---------------------------------------------------------------------------\u001b[39m",
      "\u001b[31mAttributeError\u001b[39m                            Traceback (most recent call last)",
      "\u001b[36mCell\u001b[39m\u001b[36m \u001b[39m\u001b[32mIn[58]\u001b[39m\u001b[32m, line 12\u001b[39m\n\u001b[32m      8\u001b[39m token_to_id = { t:i \u001b[38;5;28;01mfor\u001b[39;00m i, t \u001b[38;5;129;01min\u001b[39;00m \u001b[38;5;28menumerate\u001b[39m(vocab)}\n\u001b[32m     10\u001b[39m torch.manual_seed(\u001b[32m0\u001b[39m)\n\u001b[32m---> \u001b[39m\u001b[32m12\u001b[39m \u001b[38;5;28;01mclass\u001b[39;00m\u001b[38;5;250m \u001b[39m\u001b[34;01mDigramLM\u001b[39;00m(\u001b[43mnn\u001b[49m\u001b[43m.\u001b[49m\u001b[43mModel\u001b[49m):\n\u001b[32m     13\u001b[39m     \u001b[38;5;28;01mdef\u001b[39;00m\u001b[38;5;250m \u001b[39m\u001b[34m__init__\u001b[39m(\u001b[38;5;28mself\u001b[39m, vocab):\n\u001b[32m     14\u001b[39m         \u001b[38;5;28msuper\u001b[39m.\u001b[34m__init__\u001b[39m()\n",
      "\u001b[31mAttributeError\u001b[39m: module 'torch.nn' has no attribute 'Model'"
     ]
    }
   ],
   "source": [
    "with open(\"data/glados-portal2.csv\", \"r\") as f:\n",
    "    tokens = word_tokenize(f.read())\n",
    "\n",
    "vocab = list(set(tokens))\n",
    "C = len(vocab)\n",
    "\n",
    "id_to_token = vocab\n",
    "token_to_id = { t:i for i, t in enumerate(vocab)}\n",
    "\n",
    "torch.manual_seed(0)\n",
    "\n",
    "class DigramLM(nn.Model):\n",
    "    def __init__(self, vocab):\n",
    "        super.__init__()\n",
    "        self.token_embedding_table = nn.Embedding(C, C)\n",
    "    \n",
    "    # def forward(self, input, targets):\n",
    "\n",
    "# class LSTMLM(nn.Model):\n",
    "\n",
    "# class TransformerLM(nn.Model):\n",
    "\n",
    "\n",
    "# embedding = nn.Embedding(len(token_set), 2)\n",
    "# display(torch.LongTensor([1]))\n",
    "# print(len(token_set))\n",
    "# embed = embedding(torch.LongTensor([1]))\n",
    "# # X = torch.tensor(dataX, dtype=torch.float32).reshape(n_patterns, seq_length, 1)\n",
    "# # inputs = tensor()\n",
    "\n",
    "# # ᵺ = 2\n",
    "# input_size = len(token_set)\n",
    "# hidden_size = 10\n",
    "# # data_strings = file.readlines()\n",
    "# layer_number = 2\n",
    "\n",
    "# lstm = nn.LSTM(input_size, hidden_size, layer_number)\n",
    "\n",
    "# print(lstm(randn(1, len(token_set))))"
   ]
  }
 ],
 "metadata": {
  "kernelspec": {
   "display_name": "Python 3",
   "language": "python",
   "name": "python3"
  },
  "language_info": {
   "codemirror_mode": {
    "name": "ipython",
    "version": 3
   },
   "file_extension": ".py",
   "mimetype": "text/x-python",
   "name": "python",
   "nbconvert_exporter": "python",
   "pygments_lexer": "ipython3",
   "version": "3.12.10"
  }
 },
 "nbformat": 4,
 "nbformat_minor": 2
}
