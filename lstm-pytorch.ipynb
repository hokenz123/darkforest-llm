{
 "cells": [
  {
   "cell_type": "code",
   "execution_count": 7,
   "metadata": {},
   "outputs": [],
   "source": [
    "import torch\n",
    "from torch import nn, tensor, randn\n",
    "import pandas\n",
    "# import nltk # See https://www.nltk.org/data.html\n",
    "from nltk import tokenize\n",
    "import torch.optim as optim\n",
    "from torch.utils.data import Dataset, DataLoader"
   ]
  },
  {
   "cell_type": "code",
   "execution_count": 4,
   "metadata": {},
   "outputs": [],
   "source": [
    "# Translate data from original CSV file into strings\n",
    "\n",
    "data = pandas.read_csv(\"data/glados-portal2.original.csv\", sep=\"|\", index_col=0)[\"d1\"]\n",
    "file = open(\"data/glados-portal2.csv\", \"w\")\n",
    "for string in data:\n",
    "    file.write(string + \"\\n\")"
   ]
  },
  {
   "cell_type": "code",
   "execution_count": 5,
   "metadata": {},
   "outputs": [],
   "source": [
    "char_tokenize = lambda text: nltk.tokenize.simple.CharTokenizer().tokenize(text)\n",
    "word_tokenize = lambda text: [t.lower() for t in tokenize.WordPunctTokenizer().tokenize(text)]\n",
    "\n",
    "# T (Time) -- размер контекстного окна\n",
    "get_x = lambda data, T, pos: data[pos : pos + T]\n",
    "get_y = lambda data, T, pos: data[pos + 1 : pos + T + 1]\n",
    "# get_x_y = lambda data, T, pos: data[pos : pos + T], data[pos + 1 : pos + T + 1]\n",
    "\n",
    "# B -- batch size\n",
    "def get_batch(data, B, T):\n",
    "    positions = torch.randint(len(data) - T, (B,))\n",
    "    batch_x = torch.stack([get_x(data, T, pos) for pos in positions])\n",
    "    batch_y = torch.stack([get_y(data, T, pos) for pos in positions])"
   ]
  },
  {
   "cell_type": "code",
   "execution_count": null,
   "metadata": {},
   "outputs": [
    {
     "ename": "AttributeError",
     "evalue": "module 'torch.nn' has no attribute 'Model'",
     "output_type": "error",
     "traceback": [
      "\u001b[31m---------------------------------------------------------------------------\u001b[39m",
      "\u001b[31mAttributeError\u001b[39m                            Traceback (most recent call last)",
      "\u001b[36mCell\u001b[39m\u001b[36m \u001b[39m\u001b[32mIn[6]\u001b[39m\u001b[32m, line 12\u001b[39m\n\u001b[32m      8\u001b[39m token_to_id = { t:i \u001b[38;5;28;01mfor\u001b[39;00m i, t \u001b[38;5;129;01min\u001b[39;00m \u001b[38;5;28menumerate\u001b[39m(vocab)}\n\u001b[32m     10\u001b[39m torch.manual_seed(\u001b[32m0\u001b[39m)\n\u001b[32m---> \u001b[39m\u001b[32m12\u001b[39m \u001b[38;5;28;01mclass\u001b[39;00m\u001b[38;5;250m \u001b[39m\u001b[34;01mDigramLM\u001b[39;00m(\u001b[43mnn\u001b[49m\u001b[43m.\u001b[49m\u001b[43mModel\u001b[49m):\n\u001b[32m     13\u001b[39m     \u001b[38;5;28;01mdef\u001b[39;00m\u001b[38;5;250m \u001b[39m\u001b[34m__init__\u001b[39m(\u001b[38;5;28mself\u001b[39m, vocab):\n\u001b[32m     14\u001b[39m         \u001b[38;5;28msuper\u001b[39m.\u001b[34m__init__\u001b[39m()\n",
      "\u001b[31mAttributeError\u001b[39m: module 'torch.nn' has no attribute 'Model'"
     ]
    }
   ],
   "source": [
    "with open(\"data/glados-portal2.csv\", \"r\") as f:\n",
    "    tokens = word_tokenize(f.read())\n",
    "\n",
    "vocab = list(set(tokens))\n",
    "C = len(vocab)\n",
    "\n",
    "id_to_token = vocab\n",
    "token_to_id = { t:i for i, t in enumerate(vocab)}\n",
    "\n",
    "torch.manual_seed(0)\n",
    "\n",
    "class DigramLM(nn.Module):\n",
    "    def __init__(self, vocab):\n",
    "        super.__init__()\n",
    "        self.token_embedding_table = nn.Embedding(C, C)\n",
    "    \n",
    "    # def forward(self, input, targets):\n",
    "\n",
    "# class LSTMLM(nn.Model):\n",
    "\n",
    "# class TransformerLM(nn.Model):\n",
    "\n",
    "\n",
    "# embedding = nn.Embedding(len(token_set), 2)\n",
    "# display(torch.LongTensor([1]))\n",
    "# print(len(token_set))\n",
    "# embed = embedding(torch.LongTensor([1]))\n",
    "# # X = torch.tensor(dataX, dtype=torch.float32).reshape(n_patterns, seq_length, 1)\n",
    "# # inputs = tensor()\n",
    "\n",
    "# # ᵺ = 2\n",
    "# input_size = len(token_set)\n",
    "# hidden_size = 10\n",
    "# # data_strings = file.readlines()\n",
    "# layer_number = 2\n",
    "\n",
    "# lstm = nn.LSTM(input_size, hidden_size, layer_number)\n",
    "\n",
    "# print(lstm(randn(1, len(token_set))))"
   ]
  },
  {
   "cell_type": "code",
   "execution_count": 43,
   "metadata": {},
   "outputs": [],
   "source": [
    "with open(\"data/glados-portal2.csv\", \"r\") as f:\n",
    "    text = f.read()\n",
    "\n",
    "tokens = word_tokenize(text.lower())\n",
    "vocab =  sorted(list(set(tokens)))\n",
    "vocab = ['<PAD>', '<UNK>'] + vocab\n",
    "vocab_size = len(vocab)\n",
    "\n",
    "token_to_id = {t:i for i,t in enumerate(vocab)}\n",
    "id_to_token = {i:t for t,i in token_to_id.items()}\n",
    "\n",
    "torch.manual_seed(0)\n",
    "\n",
    "\n",
    "def tokens_to_text(token_ids, id_to_token):\n",
    "    return \" \".join([id_to_token.get(token_id, \"<UNK>\") for token_id in token_ids])\n",
    "\n",
    "\n",
    "class TextDataset(Dataset):\n",
    "    def __init__(self, text, token_to_id, seq_length=20):\n",
    "        self.token_ids = [token_to_id.get(t, token_to_id['<UNK>']) for t in word_tokenize(text)]\n",
    "        self.seq_length = seq_length\n",
    "        \n",
    "    def __len__(self):\n",
    "        return len(self.token_ids) - self.seq_length\n",
    "    \n",
    "    def __getitem__(self, idx):\n",
    "        input_seq = self.token_ids[idx:idx+self.seq_length]\n",
    "        target_seq = self.token_ids[idx+1:idx+self.seq_length+1]\n",
    "        return torch.tensor(input_seq), torch.tensor(target_seq)\n",
    "\n",
    "dataset = TextDataset(text, token_to_id)\n",
    "dataloader = DataLoader(dataset, batch_size=32, shuffle=True)\n"
   ]
  },
  {
   "cell_type": "code",
   "execution_count": 46,
   "metadata": {},
   "outputs": [],
   "source": [
    "\n",
    "class SimpleLSTM(nn.Module):\n",
    "    def __init__(self, vocab_size, embedding_dim=64, hidden_size=128):\n",
    "        super().__init__()\n",
    "        self.embed = nn.Embedding(vocab_size, embedding_dim)\n",
    "        self.lstm = nn.LSTM(embedding_dim, hidden_size, batch_first=True)\n",
    "        self.fc = nn.Linear(hidden_size, vocab_size)\n",
    "    \n",
    "    def forward(self, x, hidden=None):\n",
    "        x = self.embed(x)\n",
    "        out, hidden = self.lstm(x, hidden)\n",
    "        return self.fc(out), hidden\n",
    "    \n",
    "model = SimpleLSTM(vocab_size)\n",
    "device = torch.device('cpu')\n",
    "model.to(device)\n",
    "criterion = nn.CrossEntropyLoss()"
   ]
  },
  {
   "cell_type": "code",
   "execution_count": null,
   "metadata": {},
   "outputs": [],
   "source": [
    "# загрузка\n",
    "checkpoint = torch.load('text_lstm_model.pth')\n",
    "model.load_state_dict(checkpoint['model_state'])\n",
    "token_to_id = checkpoint['token_to_id']\n",
    "id_to_token = checkpoint['id_to_token']"
   ]
  },
  {
   "cell_type": "code",
   "execution_count": 47,
   "metadata": {},
   "outputs": [
    {
     "name": "stdout",
     "output_type": "stream",
     "text": [
      "Epoch 1/20, Loss: 5.2898\n",
      "Epoch 2/20, Loss: 4.0992\n",
      "Epoch 3/20, Loss: 3.3674\n",
      "Epoch 4/20, Loss: 2.8076\n",
      "Epoch 5/20, Loss: 2.3788\n",
      "Epoch 6/20, Loss: 2.0358\n",
      "Epoch 7/20, Loss: 1.7506\n",
      "Epoch 8/20, Loss: 1.5136\n",
      "Epoch 9/20, Loss: 1.3173\n",
      "Epoch 10/20, Loss: 1.1527\n",
      "Epoch 11/20, Loss: 1.0147\n",
      "Epoch 12/20, Loss: 0.8983\n",
      "Epoch 13/20, Loss: 0.7990\n",
      "Epoch 14/20, Loss: 0.7151\n",
      "Epoch 15/20, Loss: 0.6433\n",
      "Epoch 16/20, Loss: 0.5824\n",
      "Epoch 17/20, Loss: 0.5311\n",
      "Epoch 18/20, Loss: 0.4875\n",
      "Epoch 19/20, Loss: 0.4518\n",
      "Epoch 20/20, Loss: 0.4217\n"
     ]
    }
   ],
   "source": [
    "# обучение\n",
    "optimizer = optim.Adam(model.parameters(), lr=0.001)\n",
    "\n",
    "def train(model, dataloader, epochs=10):\n",
    "    model.train()\n",
    "    for epoch in range(epochs):\n",
    "        total_loss = 0\n",
    "        for inputs, targets in dataloader:\n",
    "            inputs, targets = inputs.to(device), targets.to(device)\n",
    "            \n",
    "            optimizer.zero_grad()\n",
    "            outputs, _ = model(inputs)\n",
    "            loss = criterion(outputs.view(-1, outputs.size(-1)), targets.view(-1))\n",
    "            loss.backward()\n",
    "            optimizer.step()\n",
    "            \n",
    "            total_loss += loss.item()\n",
    "        \n",
    "        print(f'Epoch {epoch+1}/{epochs}, Loss: {total_loss/len(dataloader):.4f}')\n",
    "\n",
    "train(model, dataloader, epochs=20)"
   ]
  },
  {
   "cell_type": "code",
   "execution_count": 53,
   "metadata": {},
   "outputs": [
    {
     "name": "stdout",
     "output_type": "stream",
     "text": [
      "\n",
      "Сгенерированный текст: kill you fast . with bullets . or neurotoxin . but if you ' re unqualified . impersonating a stalemate associate . i just added that to the list . it don ' t go anywhere . i ' d just finished building them before you had your , well ,\n"
     ]
    }
   ],
   "source": [
    "\n",
    "# Генерация текста\n",
    "def generate_text(model, start_text, token_to_id, id_to_token, max_length=50):\n",
    "    model.eval()\n",
    "    tokens = word_tokenize(start_text.lower())\n",
    "    token_ids = [token_to_id.get(t, token_to_id['<UNK>']) for t in tokens]\n",
    "    hidden = None\n",
    "    \n",
    "    for _ in range(max_length):\n",
    "        input_tensor = torch.tensor([token_ids[-1]]).unsqueeze(0).to(device)\n",
    "        with torch.no_grad():\n",
    "            output, hidden = model(input_tensor, hidden)\n",
    "        \n",
    "        probs = torch.softmax(output.squeeze(), dim=-1)\n",
    "        next_token = torch.multinomial(probs, num_samples=1).item()\n",
    "        token_ids.append(next_token)\n",
    "    \n",
    "    return ' '.join([id_to_token[t] for t in token_ids])\n",
    "\n",
    "# Пример использования\n",
    "generated = generate_text(model, \"kill\", token_to_id, id_to_token)\n",
    "print(\"\\nСгенерированный текст:\", generated)\n"
   ]
  },
  {
   "cell_type": "code",
   "execution_count": 49,
   "metadata": {},
   "outputs": [],
   "source": [
    "#Сохранение модели\n",
    "torch.save({\n",
    "    'model_state': model.state_dict(),\n",
    "    'token_to_id': token_to_id,\n",
    "    'id_to_token': id_to_token\n",
    "}, 'text_lstm_model.pth')"
   ]
  }
 ],
 "metadata": {
  "kernelspec": {
   "display_name": "Python 3",
   "language": "python",
   "name": "python3"
  },
  "language_info": {
   "codemirror_mode": {
    "name": "ipython",
    "version": 3
   },
   "file_extension": ".py",
   "mimetype": "text/x-python",
   "name": "python",
   "nbconvert_exporter": "python",
   "pygments_lexer": "ipython3",
   "version": "3.13.2"
  }
 },
 "nbformat": 4,
 "nbformat_minor": 2
}
