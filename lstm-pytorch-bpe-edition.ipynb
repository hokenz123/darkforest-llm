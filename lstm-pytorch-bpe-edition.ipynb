{
 "cells": [
  {
   "cell_type": "code",
   "execution_count": 1,
   "metadata": {},
   "outputs": [],
   "source": [
    "import torch\n",
    "from torch import nn, tensor, randn\n",
    "import pandas\n",
    "# import nltk # See https://www.nltk.org/data.html\n",
    "from nltk import tokenize\n",
    "import torch.optim as optim\n",
    "from torch.utils.data import Dataset, DataLoader"
   ]
  },
  {
   "cell_type": "code",
   "execution_count": 9,
   "metadata": {},
   "outputs": [],
   "source": [
    "# Translate data from original CSV file into strings\n",
    "\n",
    "to_replace = {'’': '\\''} #, '—', '-'\n",
    "\n",
    "data = pandas.read_csv(\"data/glados-portal2.original.csv\", sep=\"|\", index_col=0)[\"d1\"]\n",
    "file = open(\"data/glados-portal2.csv\", \"w\", encoding='utf-16')\n",
    "for string in data:\n",
    "    file.write(string.translate(str.maketrans(to_replace)) + \"\\n\")"
   ]
  },
  {
   "cell_type": "code",
   "execution_count": 219,
   "metadata": {},
   "outputs": [],
   "source": [
    "char_tokenize = lambda text: tokenize.simple.CharTokenizer().tokenize(text)\n",
    "word_lower_tokenize = lambda text: [t.lower() for t in tokenize.WordPunctTokenizer().tokenize(text)]\n",
    "word_tokenize = lambda text: tokenize.WordPunctTokenizer().tokenize(text)\n",
    "\n",
    "def byte_pair_encode(data, merge_count, chars_to_ignore=None):\n",
    "    token_set = set(char_tokenize(data))\n",
    "    return byte_pair_encode_continue(data, token_set.copy(), merge_count, chars_to_ignore)\n",
    "\n",
    "import threading\n",
    "\n",
    "def _bpe_count_pairs(token, token_set, pair_counts, data):\n",
    "    for B in token_set:\n",
    "        pair = token + B\n",
    "        if pair in token_set: continue\n",
    "        pair_counts.append((pair, data.count(pair)))\n",
    "\n",
    "\n",
    "def byte_pair_encode_continue(data, token_set, merge_count, chars_to_ignore=None):\n",
    "    # print('starts with ', token_set)\n",
    "    token_set -= (chars_to_ignore or {' ', '.', ','})\n",
    "    while merge_count != 0:\n",
    "        new_token_set = token_set.copy()\n",
    "        pair_counts = []\n",
    "        for A in token_set:\n",
    "            for B in token_set:\n",
    "                pair = A + B\n",
    "                if pair in token_set: continue\n",
    "                pair_counts.append((pair, data.count(pair)))\n",
    "                max_freq = 0\n",
    "                most_frequent = []\n",
    "        for v in pair_counts:\n",
    "            if v[1] > max_freq:\n",
    "                max_freq = v[1]\n",
    "                most_frequent = [v[0]]\n",
    "            elif v[1] == max_freq:\n",
    "                most_frequent.append(v[0])\n",
    "        # if len(most_frequent) > 0: print(most_frequent)\n",
    "        for t in most_frequent:\n",
    "            new_token_set.add(t)\n",
    "            merge_count -= 1\n",
    "            if merge_count == 0: break\n",
    "        # print('+ ', new_token_set - token_set)\n",
    "        token_set = new_token_set\n",
    "    return token_set | (chars_to_ignore or {' ', '.', ','})\n",
    "\n",
    "def bpe_tokenize(text):\n",
    "    result = []\n",
    "    words = text.split(' ')\n",
    "    for w in words:\n",
    "        while len(w) > 0:\n",
    "            for i in range(len(w)):\n",
    "                i = len(w) - i\n",
    "                # print(w[:i])\n",
    "                if w[:i] in token_to_id:\n",
    "                    # print('found')\n",
    "                    result.append(w[:i])\n",
    "                    w = w[i:]\n",
    "                    # print(w, 'still')\n",
    "                    break\n",
    "        result.append(' ')\n",
    "    return result\n",
    "\n",
    "# T (Time) -- размер контекстного окна\n",
    "get_x = lambda data, T, pos: data[pos : pos + T]\n",
    "get_y = lambda data, T, pos: data[pos + 1 : pos + T + 1]\n",
    "# get_x_y = lambda data, T, pos: data[pos : pos + T], data[pos + 1 : pos + T + 1]\n",
    "\n",
    "# B -- batch size\n",
    "def get_batch(data, B, T):\n",
    "    positions = torch.randint(len(data) - T, (B,))\n",
    "    batch_x = torch.stack([get_x(data, T, pos) for pos in positions])\n",
    "    batch_y = torch.stack([get_y(data, T, pos) for pos in positions])"
   ]
  },
  {
   "cell_type": "code",
   "execution_count": 215,
   "metadata": {},
   "outputs": [
    {
     "name": "stdout",
     "output_type": "stream",
     "text": [
      "89\n",
      "{'G', 'z', '2', '”', '?', 'te', 'yo', 'V', 'x', '.', 'l', 'p', ':', ',', 'e', '4', '–', 'R', 'W', 'ng', 'Y', 'an', '0', 'A', 'r', '5', 'f', 'T', 'b', 's', 'F', 'N', 'you', 'g', 'u', '[', ';', 'ing', 'm', 'in', 'M', '3', '—', 'he', 'K', 'd', '$', 'J', 'U', 'o', 'w', 'E', 'i', 'ou', 'er', 'st', 'y', '!', 't', 'on', 'v', 'D', 'th', 'I', 'H', ']', 'O', 'q', 'L', '1', 'S', 'the', 're', 'at', 'P', 'B', 'C', '7', 'k', 'j', '-', 'h', 'n', 'c', \"'\", 'a', ' ', '\\n', 'es'}\n"
     ]
    }
   ],
   "source": [
    "test = byte_pair_encode(text, 20)\n",
    "print(len(test))\n",
    "print(test)\n",
    "# print(bpe_tokenize(\"Did you tested it, don't you?\"))"
   ]
  },
  {
   "cell_type": "code",
   "execution_count": null,
   "metadata": {},
   "outputs": [
    {
     "ename": "AttributeError",
     "evalue": "module 'torch.nn' has no attribute 'Model'",
     "output_type": "error",
     "traceback": [
      "\u001b[31m---------------------------------------------------------------------------\u001b[39m",
      "\u001b[31mAttributeError\u001b[39m                            Traceback (most recent call last)",
      "\u001b[36mCell\u001b[39m\u001b[36m \u001b[39m\u001b[32mIn[6]\u001b[39m\u001b[32m, line 12\u001b[39m\n\u001b[32m      8\u001b[39m token_to_id = { t:i \u001b[38;5;28;01mfor\u001b[39;00m i, t \u001b[38;5;129;01min\u001b[39;00m \u001b[38;5;28menumerate\u001b[39m(vocab)}\n\u001b[32m     10\u001b[39m torch.manual_seed(\u001b[32m0\u001b[39m)\n\u001b[32m---> \u001b[39m\u001b[32m12\u001b[39m \u001b[38;5;28;01mclass\u001b[39;00m\u001b[38;5;250m \u001b[39m\u001b[34;01mDigramLM\u001b[39;00m(\u001b[43mnn\u001b[49m\u001b[43m.\u001b[49m\u001b[43mModel\u001b[49m):\n\u001b[32m     13\u001b[39m     \u001b[38;5;28;01mdef\u001b[39;00m\u001b[38;5;250m \u001b[39m\u001b[34m__init__\u001b[39m(\u001b[38;5;28mself\u001b[39m, vocab):\n\u001b[32m     14\u001b[39m         \u001b[38;5;28msuper\u001b[39m.\u001b[34m__init__\u001b[39m()\n",
      "\u001b[31mAttributeError\u001b[39m: module 'torch.nn' has no attribute 'Model'"
     ]
    }
   ],
   "source": [
    "with open(\"data/glados-portal2.csv\", \"r\", encoding='utf-16') as f:\n",
    "    tokens = word_tokenize(f.read())\n",
    "\n",
    "vocab = list(set(tokens))\n",
    "C = len(vocab)\n",
    "\n",
    "id_to_token = vocab\n",
    "token_to_id = { t:i for i, t in enumerate(vocab)}\n",
    "\n",
    "torch.manual_seed(0)\n",
    "\n",
    "class DigramLM(nn.Module):\n",
    "    def __init__(self, vocab):\n",
    "        super.__init__()\n",
    "        self.token_embedding_table = nn.Embedding(C, C)\n",
    "    \n",
    "    # def forward(self, input, targets):\n",
    "\n",
    "# class LSTMLM(nn.Model):\n",
    "\n",
    "# class TransformerLM(nn.Model):\n",
    "\n",
    "\n",
    "# embedding = nn.Embedding(len(token_set), 2)\n",
    "# display(torch.LongTensor([1]))\n",
    "# print(len(token_set))\n",
    "# embed = embedding(torch.LongTensor([1]))\n",
    "# # X = torch.tensor(dataX, dtype=torch.float32).reshape(n_patterns, seq_length, 1)\n",
    "# # inputs = tensor()\n",
    "\n",
    "# # ᵺ = 2\n",
    "# input_size = len(token_set)\n",
    "# hidden_size = 10\n",
    "# # data_strings = file.readlines()\n",
    "# layer_number = 2\n",
    "\n",
    "# lstm = nn.LSTM(input_size, hidden_size, layer_number)\n",
    "\n",
    "# print(lstm(randn(1, len(token_set))))"
   ]
  },
  {
   "cell_type": "code",
   "execution_count": 74,
   "metadata": {},
   "outputs": [],
   "source": [
    "with open(\"data/glados-portal2.csv\", \"r\", encoding='utf-16') as f:\n",
    "    text = f.read()"
   ]
  },
  {
   "cell_type": "code",
   "execution_count": 161,
   "metadata": {},
   "outputs": [],
   "source": [
    "# Сгенерировать и сохранить набор токенов кодированием пар байтов\n",
    "import pickle\n",
    "bpe_token_file = open(r'bpe_tokens.pkl', 'wb')\n",
    "bpe_token_set = byte_pair_encode(text, 60)\n",
    "pickle.dump(bpe_token_set, bpe_token_file)\n",
    "bpe_token_file.close()"
   ]
  },
  {
   "cell_type": "code",
   "execution_count": 224,
   "metadata": {},
   "outputs": [
    {
     "name": "stdout",
     "output_type": "stream",
     "text": [
      "+ {'ug', 'range', '.', 'un', ',', 'ect', 'ess', 'Bl', 'res', 'ag', 'com', 'ive', 'sh', 'ig', 'rang', 'op', 'can', 'pa', 'ba', 'ir', 'ht', 'ght', 'fe', 'hing', 'am', 'pr', 'here', ' ', 'abo'}\n"
     ]
    }
   ],
   "source": [
    "# Загрузить, дополнить и сохранить токены КПБ\n",
    "import pickle\n",
    "bpe_token_file = open(r'bpe_tokens.pkl', 'rb')\n",
    "bpe_token_set = pickle.load(bpe_token_file)\n",
    "bpe_token_file.close()\n",
    "bpe_token_set_old = bpe_token_set\n",
    "bpe_token_set = byte_pair_encode_continue(text, bpe_token_set, 40)\n",
    "bpe_token_file = open(r'bpe_tokens.pkl', 'wb')\n",
    "pickle.dump(bpe_token_set, bpe_token_file)\n",
    "bpe_token_file.close()\n",
    "print('+', bpe_token_set - bpe_token_set_old)"
   ]
  },
  {
   "cell_type": "code",
   "execution_count": 147,
   "metadata": {},
   "outputs": [
    {
     "data": {
      "text/plain": [
       "['la', 'G', 'z', 'te', 'ne', 'est', 'x', 'us', 'be', 'p']"
      ]
     },
     "execution_count": 147,
     "metadata": {},
     "output_type": "execute_result"
    }
   ],
   "source": [
    "# Загрузить токены КПБ\n",
    "import pickle\n",
    "bpe_token_file = open(r'bpe_tokens.pkl', 'rb')\n",
    "bpe_token_set = pickle.load(bpe_token_file)\n",
    "bpe_token_file.close()\n",
    "list(bpe_token_set)[:10]"
   ]
  },
  {
   "cell_type": "code",
   "execution_count": 166,
   "metadata": {},
   "outputs": [
    {
     "name": "stdout",
     "output_type": "stream",
     "text": [
      "124\n",
      "['G', 'z', '2', '”', '?', 'te', 'ne', 'yo', 'est', 'en', 'V', 'x', '.', 'us', 'be', 'l', 'p', 'co', ':', ',', 'as', 'me', 'e', '4', '–', 'R', 'W', 'el', 'ng', 'Y', 'nd', 'an', '0', 'A', 'r', 'hi', 'hat', '5', 'f', 'T', 'ea', 'b', 's', 'N', 'F', 'you', 'om', 'g', 'u', '[', ';', 'ing', 'm', 'ar', 'in', 'M', '3', '—', 'tes', 'nt', 'he', 'K', 'it', 'd', '$', 'se', 'or', 'J', 'll', 'U', 'o', 'w', 'E', 'ou', 've', 'er', 'i', 'st', 'y', 'ra', '!', 't', 'on', 'ur', 'v', 'th', 'D', 'I', 'H', ']', 'no', 'ri', 'le', 'to', 'O', 'q', 'L', '1', 'ed', 'is', 'S', 'al', 'test', 'the', 're', 'at', '7', 'B', 'P', 'C', 'ha', 'k', 'j', '-', 'h', 'n', 'ti', 'c', 'ma', \"'\", 'a', ' ', '\\n', 'es']\n"
     ]
    }
   ],
   "source": [
    "print(len(bpe_token_set))\n",
    "print(list(bpe_token_set))"
   ]
  },
  {
   "cell_type": "code",
   "execution_count": 246,
   "metadata": {},
   "outputs": [],
   "source": [
    "# tokens = list(bpe_token_set | set(word_tokenize(text)))\n",
    "tokens = list(bpe_token_set)\n",
    "vocab =  sorted(tokens)\n",
    "vocab = ['<PAD>', '<UNK>'] + vocab\n",
    "vocab_size = len(vocab)\n",
    "\n",
    "token_to_id = {t:i for i,t in enumerate(vocab)}\n",
    "id_to_token = {i:t for t,i in token_to_id.items()}\n",
    "\n",
    "torch.manual_seed(0)\n",
    "\n",
    "tokenize_func = bpe_tokenize\n",
    "\n",
    "def tokens_to_text(token_ids, id_to_token):\n",
    "    return \" \".join([id_to_token.get(token_id, \"<UNK>\") for token_id in token_ids])\n",
    "\n",
    "\n",
    "class TextDataset(Dataset):\n",
    "    def __init__(self, text, token_to_id, seq_length=20):\n",
    "        self.token_ids = [token_to_id.get(t, token_to_id['<UNK>']) for t in tokenize_func(text)]\n",
    "        self.seq_length = seq_length\n",
    "        \n",
    "    def __len__(self):\n",
    "        return len(self.token_ids) - self.seq_length\n",
    "    \n",
    "    def __getitem__(self, idx):\n",
    "        input_seq = self.token_ids[idx:idx+self.seq_length]\n",
    "        target_seq = self.token_ids[idx+1:idx+self.seq_length+1]\n",
    "        return torch.tensor(input_seq), torch.tensor(target_seq)\n",
    "\n",
    "dataset = TextDataset(text, token_to_id)\n",
    "dataloader = DataLoader(dataset, batch_size=32, shuffle=True)\n"
   ]
  },
  {
   "cell_type": "code",
   "execution_count": 227,
   "metadata": {},
   "outputs": [],
   "source": [
    "\n",
    "class SimpleLSTM(nn.Module):\n",
    "    def __init__(self, vocab_size, embedding_dim=64, hidden_size=128):\n",
    "        super().__init__()\n",
    "        self.embed = nn.Embedding(vocab_size, embedding_dim)\n",
    "        self.lstm = nn.LSTM(embedding_dim, hidden_size, batch_first=True)\n",
    "        self.fc = nn.Linear(hidden_size, vocab_size)\n",
    "    \n",
    "    def forward(self, x, hidden=None):\n",
    "        x = self.embed(x)\n",
    "        out, hidden = self.lstm(x, hidden)\n",
    "        return self.fc(out), hidden\n",
    "    \n",
    "model = SimpleLSTM(vocab_size)\n",
    "device = torch.device('cuda')\n",
    "model.to(device)\n",
    "criterion = nn.CrossEntropyLoss()"
   ]
  },
  {
   "cell_type": "code",
   "execution_count": 5,
   "metadata": {},
   "outputs": [],
   "source": [
    "# загрузка\n",
    "checkpoint = torch.load('text_lstm_model.pth')\n",
    "model.load_state_dict(checkpoint['model_state'])\n",
    "token_to_id = checkpoint['token_to_id']\n",
    "id_to_token = checkpoint['id_to_token']"
   ]
  },
  {
   "cell_type": "code",
   "execution_count": 235,
   "metadata": {},
   "outputs": [
    {
     "name": "stdout",
     "output_type": "stream",
     "text": [
      "Epoch 1/4, Loss: 0.7068\n",
      "Epoch 2/4, Loss: 0.6889\n",
      "Epoch 3/4, Loss: 0.6739\n",
      "Epoch 4/4, Loss: 0.6605\n"
     ]
    }
   ],
   "source": [
    "# обучение\n",
    "optimizer = optim.Adam(model.parameters(), lr=0.001)\n",
    "\n",
    "def train(model, dataloader, epochs=10):\n",
    "    model.train()\n",
    "    for epoch in range(epochs):\n",
    "        total_loss = 0\n",
    "        for inputs, targets in dataloader:\n",
    "            inputs, targets = inputs.to(device), targets.to(device)\n",
    "            \n",
    "            optimizer.zero_grad()\n",
    "            outputs, _ = model(inputs)\n",
    "            loss = criterion(outputs.view(-1, outputs.size(-1)), targets.view(-1))\n",
    "            loss.backward()\n",
    "            optimizer.step()\n",
    "            \n",
    "            total_loss += loss.item()\n",
    "        \n",
    "        print(f'Epoch {epoch+1}/{epochs}, Loss: {total_loss/len(dataloader):.4f}')\n",
    "\n",
    "train(model, dataloader, epochs=4)"
   ]
  },
  {
   "cell_type": "code",
   "execution_count": 244,
   "metadata": {},
   "outputs": [
    {
     "name": "stdout",
     "output_type": "stream",
     "text": [
      "\n",
      "Сгенерированный текст: You are people noticles.\n",
      "That is first failure. The killing me. By the way. Enjoy these tests break from the testing courses, the last test? I'm looking at your partner the \n"
     ]
    }
   ],
   "source": [
    "\n",
    "# Генерация текста\n",
    "def generate_text(model, start_text, token_to_id, id_to_token, max_length=100):\n",
    "    model.eval()\n",
    "    tokens = tokenize_func(start_text)\n",
    "    token_ids = [token_to_id.get(t, token_to_id['<UNK>']) for t in tokens]\n",
    "    hidden = None\n",
    "    \n",
    "    for _ in range(max_length):\n",
    "        input_tensor = torch.tensor([token_ids[-1]]).unsqueeze(0).to(device)\n",
    "        with torch.no_grad():\n",
    "            output, hidden = model(input_tensor, hidden)\n",
    "        \n",
    "        probs = torch.softmax(output.squeeze(), dim=-1)\n",
    "        next_token = torch.multinomial(probs, num_samples=1).item()\n",
    "        token_ids.append(next_token)\n",
    "    \n",
    "    return ''.join([id_to_token[t] for t in token_ids])\n",
    "\n",
    "# Пример использования\n",
    "generated = generate_text(model, \"You are\", token_to_id, id_to_token)\n",
    "print(\"\\nСгенерированный текст:\", generated)\n"
   ]
  },
  {
   "cell_type": "code",
   "execution_count": 1,
   "metadata": {},
   "outputs": [
    {
     "ename": "NameError",
     "evalue": "name 'torch' is not defined",
     "output_type": "error",
     "traceback": [
      "\u001b[31m---------------------------------------------------------------------------\u001b[39m",
      "\u001b[31mNameError\u001b[39m                                 Traceback (most recent call last)",
      "\u001b[36mCell\u001b[39m\u001b[36m \u001b[39m\u001b[32mIn[1]\u001b[39m\u001b[32m, line 2\u001b[39m\n\u001b[32m      1\u001b[39m \u001b[38;5;66;03m#Сохранение модели\u001b[39;00m\n\u001b[32m----> \u001b[39m\u001b[32m2\u001b[39m \u001b[43mtorch\u001b[49m.save({\n\u001b[32m      3\u001b[39m     \u001b[33m'\u001b[39m\u001b[33mmodel_state\u001b[39m\u001b[33m'\u001b[39m: model.state_dict(),\n\u001b[32m      4\u001b[39m     \u001b[33m'\u001b[39m\u001b[33mtoken_to_id\u001b[39m\u001b[33m'\u001b[39m: token_to_id,\n\u001b[32m      5\u001b[39m     \u001b[33m'\u001b[39m\u001b[33mid_to_token\u001b[39m\u001b[33m'\u001b[39m: id_to_token\n\u001b[32m      6\u001b[39m }, \u001b[33m'\u001b[39m\u001b[33mtext_lstm_model.pth\u001b[39m\u001b[33m'\u001b[39m)\n",
      "\u001b[31mNameError\u001b[39m: name 'torch' is not defined"
     ]
    }
   ],
   "source": [
    "#Сохранение модели\n",
    "torch.save({\n",
    "    'model_state': model.state_dict(),\n",
    "    'token_to_id': token_to_id,\n",
    "    'id_to_token': id_to_token\n",
    "}, 'text_lstm_model.pth')"
   ]
  }
 ],
 "metadata": {
  "kernelspec": {
   "display_name": "Python 3",
   "language": "python",
   "name": "python3"
  },
  "language_info": {
   "codemirror_mode": {
    "name": "ipython",
    "version": 3
   },
   "file_extension": ".py",
   "mimetype": "text/x-python",
   "name": "python",
   "nbconvert_exporter": "python",
   "pygments_lexer": "ipython3",
   "version": "3.12.10"
  }
 },
 "nbformat": 4,
 "nbformat_minor": 2
}
